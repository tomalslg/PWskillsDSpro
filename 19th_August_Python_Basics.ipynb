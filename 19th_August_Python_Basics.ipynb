{
 "cells": [
  {
   "cell_type": "code",
   "execution_count": 1,
   "id": "a63b241b",
   "metadata": {},
   "outputs": [
    {
     "name": "stdout",
     "output_type": "stream",
     "text": [
      "x = 5 and y = 4\n"
     ]
    }
   ],
   "source": [
    "'''Declare two variables, `x` and `y`, and assign them integer values. Swap the\n",
    "values of these variables without using any temporary variable.'''\n",
    "\n",
    "## Initialize 2 variables\n",
    "x,y = 4,5\n",
    "\n",
    "##swap the value of the variables\n",
    "x = x + y\n",
    "y = x - y\n",
    "x = x - y\n",
    "\n",
    "print (f'x = {x} and y = {y}')"
   ]
  },
  {
   "cell_type": "code",
   "execution_count": 4,
   "id": "84569ab7",
   "metadata": {},
   "outputs": [
    {
     "name": "stdout",
     "output_type": "stream",
     "text": [
      "Enter the length 5\n",
      "Enter the Width 7\n",
      "Area = 35\n"
     ]
    }
   ],
   "source": [
    "'''Create a program that calculates the area of a rectangle. \n",
    "Take the length and width as inputs from the user and store them in variables. \n",
    "Calculate and display the area.'''\n",
    "\n",
    "length = int( input('Enter the length '))\n",
    "width = int( input('Enter the Width '))\n",
    "area = length * width\n",
    "print(f'Area = {area}')"
   ]
  },
  {
   "cell_type": "code",
   "execution_count": 5,
   "id": "c3d4edf1",
   "metadata": {},
   "outputs": [
    {
     "name": "stdout",
     "output_type": "stream",
     "text": [
      "Enter the temperature in Celcius37\n",
      "Temperature of 37 Celcius is same as 98.60000000000001 Fahrenheit\n"
     ]
    }
   ],
   "source": [
    "'''Write a Python program that converts temperatures from Celsius to Fahrenheit. \n",
    "Take the temperature in Celsius as input, store it in a variable,\n",
    "convert it to Fahrenheit, and display the result.'''\n",
    "\n",
    "tempCelcius = int( input('Enter the temperature in Celcius'))\n",
    "tempFahrenheit = (9/5) * tempCelcius + 32\n",
    "print(f'Temperature of {tempCelcius} Celcius is same as {tempFahrenheit} Fahrenheit')"
   ]
  },
  {
   "cell_type": "code",
   "execution_count": 9,
   "id": "9f4e19a0",
   "metadata": {},
   "outputs": [
    {
     "name": "stdout",
     "output_type": "stream",
     "text": [
      "Enter a stringPW skills\n",
      "Length of \"PW skills\" is 9\n"
     ]
    }
   ],
   "source": [
    "'''Write a Python program that takes a string as input and prints the length of the string.'''\n",
    "\n",
    "strRec = input('Enter a string')\n",
    "length = 0\n",
    "##Iterate through each element of the string and count the number of elements\n",
    "for i in strRec:\n",
    "    length += 1\n",
    "\n",
    "print (f'Length of \"{strRec}\" is {length}') \n",
    "    "
   ]
  },
  {
   "cell_type": "code",
   "execution_count": 28,
   "id": "c270a620",
   "metadata": {},
   "outputs": [
    {
     "name": "stdout",
     "output_type": "stream",
     "text": [
      "Enter a Sentence Apple is a fruit\n",
      "The number of vowels in \"Apple is a fruit\" is 3\n"
     ]
    }
   ],
   "source": [
    "'''Create a program that takes a sentence from the user and counts the number\n",
    "of vowels (a, e, i, o, u) in the string.'''\n",
    "\n",
    "strRec = input('Enter a Sentence ')\n",
    "\n",
    "## split the string into a list\n",
    "list1 = strRec.split()\n",
    "count = 0 \n",
    "## Iterate through each string in the list\n",
    "for i in list1:\n",
    "    ## Take the first character in the string and convert to lower case. \n",
    "    ## Then check if it one of the vowel which is maintained in a tuple\n",
    "    if i[0].lower() in ('a','e','i','o','u'):\n",
    "        count += 1\n",
    "        \n",
    "print (f'The number of vowels in \"{strRec}\" is {count}') "
   ]
  },
  {
   "cell_type": "code",
   "execution_count": 29,
   "id": "d2300b02",
   "metadata": {},
   "outputs": [
    {
     "name": "stdout",
     "output_type": "stream",
     "text": [
      "orp ecneics atad slliks WP\n"
     ]
    }
   ],
   "source": [
    "'''Given a string, reverse the order of characters using string slicing and print\n",
    "the reversed string.'''\n",
    "strGiven = \"PW skills data science pro\"\n",
    "strReverse = strGiven[::-1]\n",
    "print (strReverse)"
   ]
  },
  {
   "cell_type": "code",
   "execution_count": 33,
   "id": "9bac2233",
   "metadata": {},
   "outputs": [
    {
     "name": "stdout",
     "output_type": "stream",
     "text": [
      "Enter a String to check if Palindrome Nayan\n",
      "Palindrome\n"
     ]
    }
   ],
   "source": [
    "'''Write a program that takes a string as input and checks if it is a palindrome\n",
    "(reads the same forwards and backwards).'''\n",
    "\n",
    "strRec = input('Enter a String to check if Palindrome ')\n",
    "\n",
    "if strRec.lower() == strRec[::-1].lower():\n",
    "    print(\"Palindrome\")\n",
    "else:\n",
    "    print('not Palindrome')"
   ]
  },
  {
   "cell_type": "code",
   "execution_count": 37,
   "id": "d27cf88c",
   "metadata": {},
   "outputs": [
    {
     "name": "stdout",
     "output_type": "stream",
     "text": [
      "Enter a String to remove whitespace PW skills is rocking\n",
      "PWskillsisrocking\n"
     ]
    }
   ],
   "source": [
    "'''Create a program that takes a string as input and removes all the spaces from\n",
    "it. Print the modified string without spaces.'''\n",
    "\n",
    "strRec = input('Enter a String to remove whitespace ')\n",
    "strStrip = strRec.replace(' ','')\n",
    "print (strStrip)"
   ]
  },
  {
   "cell_type": "code",
   "execution_count": null,
   "id": "cbb3725e",
   "metadata": {},
   "outputs": [],
   "source": []
  }
 ],
 "metadata": {
  "kernelspec": {
   "display_name": "Python 3 (ipykernel)",
   "language": "python",
   "name": "python3"
  },
  "language_info": {
   "codemirror_mode": {
    "name": "ipython",
    "version": 3
   },
   "file_extension": ".py",
   "mimetype": "text/x-python",
   "name": "python",
   "nbconvert_exporter": "python",
   "pygments_lexer": "ipython3",
   "version": "3.11.4"
  }
 },
 "nbformat": 4,
 "nbformat_minor": 5
}
